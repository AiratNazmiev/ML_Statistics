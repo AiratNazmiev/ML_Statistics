{
 "cells": [
  {
   "cell_type": "code",
   "execution_count": 10,
   "metadata": {},
   "outputs": [],
   "source": [
    "import numpy as np\n",
    "import scipy as sp\n",
    "import scipy.stats as sps\n",
    "import numba\n",
    "import pymc as pm\n",
    "import matplotlib.pyplot as plt"
   ]
  },
  {
   "cell_type": "markdown",
   "metadata": {},
   "source": [
    "# 1"
   ]
  },
  {
   "cell_type": "code",
   "execution_count": 11,
   "metadata": {},
   "outputs": [],
   "source": [
    "def generate(n: int, gamma: float = 42) -> np.array:\n",
    "    return sps.cauchy(loc=0, scale=gamma).rvs(n)\n",
    "\n",
    "def generate_scaled(n: int, gamma: float = 42, sigma: float = 1.337) -> np.array:\n",
    "    return sps.cauchy(loc=0, scale=gamma*sigma).rvs(n)"
   ]
  },
  {
   "cell_type": "code",
   "execution_count": 12,
   "metadata": {},
   "outputs": [],
   "source": [
    "def sigma(): \n",
    "    x1 = generate(10**6)\n",
    "    x2 = generate_scaled(10**6)\n",
    "    \n",
    "    x1_median = np.median(x1)\n",
    "\n",
    "    x2_median = np.median(x2)\n",
    "    \n",
    "    return x2_median / x1_median"
   ]
  },
  {
   "cell_type": "markdown",
   "metadata": {},
   "source": [
    "# 2"
   ]
  },
  {
   "cell_type": "code",
   "execution_count": 13,
   "metadata": {},
   "outputs": [],
   "source": [
    "def weighted_corr(sample: np.array, weights: np.array) -> float:\n",
    "    x = sample[:, 0]\n",
    "    y = sample[:, 1]\n",
    "    \n",
    "    x_mean = np.sum(weights * x)\n",
    "    y_mean = np.sum(weights * y)\n",
    "    \n",
    "    x_var = np.sum(weights * x**2) - x_mean**2\n",
    "    y_var = np.sum(weights * y**2) - y_mean**2\n",
    "    \n",
    "    return np.sum(weights * (x - x_mean) * (y - y_mean)) / np.sqrt(x_var * y_var)"
   ]
  },
  {
   "cell_type": "markdown",
   "metadata": {},
   "source": [
    "# 3"
   ]
  },
  {
   "cell_type": "code",
   "execution_count": 14,
   "metadata": {},
   "outputs": [],
   "source": [
    "data = [28, 26, 33, 24, 34, -44, 27, 16, 40, -2, 29,\n",
    "        22, 24, 21, 25, 30, 23, 29, 31, 19, 24, 20,\n",
    "        36, 32, 36, 28, 25, 21, 28, 29, 37, 25, 28,\n",
    "        26, 30, 32, 36, 26, 30, 22, 36, 23, 27, 27,\n",
    "        28, 27, 31, 27, 26, 33, 26, 32, 32, 24, 39,\n",
    "        28, 24, 25, 32, 25, 29, 27, 28, 29, 16, 23]"
   ]
  },
  {
   "cell_type": "code",
   "execution_count": null,
   "metadata": {},
   "outputs": [],
   "source": [
    "n_samples = 10**8\n",
    "n = len(data)\n",
    "s2 = np.var(data, ddof=1)\n",
    "\n",
    "sigma2 = (n - 1) * s2 / sps.chi2(df=n-1).rvs(n_samples)\n",
    "mu = sps.norm(loc=np.mean(data), scale=np.sqrt(sigma2/n)).rvs(n_samples)"
   ]
  },
  {
   "cell_type": "code",
   "execution_count": 16,
   "metadata": {},
   "outputs": [
    {
     "data": {
      "text/plain": [
       "array([23.5709279 , 28.85384027])"
      ]
     },
     "execution_count": 16,
     "metadata": {},
     "output_type": "execute_result"
    }
   ],
   "source": [
    "np.quantile(mu, q=[0.025, 0.975])"
   ]
  },
  {
   "cell_type": "code",
   "execution_count": 17,
   "metadata": {},
   "outputs": [
    {
     "data": {
      "application/vnd.jupyter.widget-view+json": {
       "model_id": "3bd0aab797774d6f8b9beeb95f8a7cd7",
       "version_major": 2,
       "version_minor": 0
      },
      "text/plain": [
       "  0%|          | 0/101000 [00:00<?, ?it/s]"
      ]
     },
     "metadata": {},
     "output_type": "display_data"
    },
    {
     "data": {
      "application/vnd.jupyter.widget-view+json": {
       "model_id": "8d2e21f785e945d68bff65b65fb4412d",
       "version_major": 2,
       "version_minor": 0
      },
      "text/plain": [
       "  0%|          | 0/101000 [00:00<?, ?it/s]"
      ]
     },
     "metadata": {},
     "output_type": "display_data"
    },
    {
     "data": {
      "application/vnd.jupyter.widget-view+json": {
       "model_id": "a9597482cc254ab09d68ac2674a0c54b",
       "version_major": 2,
       "version_minor": 0
      },
      "text/plain": [
       "  0%|          | 0/101000 [00:00<?, ?it/s]"
      ]
     },
     "metadata": {},
     "output_type": "display_data"
    },
    {
     "data": {
      "application/vnd.jupyter.widget-view+json": {
       "model_id": "2b62cdf6d29c49faac1c7bbb978ee084",
       "version_major": 2,
       "version_minor": 0
      },
      "text/plain": [
       "  0%|          | 0/101000 [00:00<?, ?it/s]"
      ]
     },
     "metadata": {},
     "output_type": "display_data"
    },
    {
     "name": "stdout",
     "output_type": "stream",
     "text": [
      "23.62 28.80\n"
     ]
    }
   ],
   "source": [
    "with pm.Model() as model:\n",
    "    sigma2 = (n - 1) * s2 / pm.ChiSquared('chi2', nu=n-1)\n",
    "    mu = pm.Normal('mu', mu=np.mean(data), sigma=pm.math.sqrt(sigma2))\n",
    "\n",
    "    pm.Normal(\"likelihood\", mu=mu, sigma=pm.math.sqrt(sigma2), observed=data)\n",
    "\n",
    "    trace = pm.sample(draws=10**5, nuts_sampler='numpyro')\n",
    "\n",
    "\n",
    "mu_samples = trace.posterior[\"mu\"].values.flatten()\n",
    "lower = np.quantile(mu_samples, 0.025)\n",
    "upper = np.quantile(mu_samples, 0.975)\n",
    "\n",
    "print(f\"{lower:.2f} {upper:.2f}\")"
   ]
  },
  {
   "cell_type": "code",
   "execution_count": 9,
   "metadata": {},
   "outputs": [
    {
     "data": {
      "image/svg+xml": [
       "<?xml version=\"1.0\" encoding=\"UTF-8\" standalone=\"no\"?>\n",
       "<!DOCTYPE svg PUBLIC \"-//W3C//DTD SVG 1.1//EN\"\n",
       " \"http://www.w3.org/Graphics/SVG/1.1/DTD/svg11.dtd\">\n",
       "<!-- Generated by graphviz version 12.2.1 (0)\n",
       " -->\n",
       "<!-- Pages: 1 -->\n",
       "<svg width=\"150pt\" height=\"364pt\"\n",
       " viewBox=\"0.00 0.00 150.01 364.45\" xmlns=\"http://www.w3.org/2000/svg\" xmlns:xlink=\"http://www.w3.org/1999/xlink\">\n",
       "<g id=\"graph0\" class=\"graph\" transform=\"scale(1 1) rotate(0) translate(4 360.45)\">\n",
       "<polygon fill=\"white\" stroke=\"none\" points=\"-4,4 -4,-360.45 146.01,-360.45 146.01,4 -4,4\"/>\n",
       "<g id=\"clust1\" class=\"cluster\">\n",
       "<title>cluster66</title>\n",
       "<path fill=\"none\" stroke=\"black\" d=\"M30.01,-8C30.01,-8 122.01,-8 122.01,-8 128.01,-8 134.01,-14 134.01,-20 134.01,-20 134.01,-117.82 134.01,-117.82 134.01,-123.82 128.01,-129.82 122.01,-129.82 122.01,-129.82 30.01,-129.82 30.01,-129.82 24.01,-129.82 18.01,-123.82 18.01,-117.82 18.01,-117.82 18.01,-20 18.01,-20 18.01,-14 24.01,-8 30.01,-8\"/>\n",
       "<text text-anchor=\"middle\" x=\"119.26\" y=\"-15.2\" font-family=\"Times New Roman,serif\" font-size=\"14.00\">66</text>\n",
       "</g>\n",
       "<!-- chi2 -->\n",
       "<g id=\"node1\" class=\"node\">\n",
       "<title>chi2</title>\n",
       "<ellipse fill=\"none\" stroke=\"black\" cx=\"75.01\" cy=\"-315.79\" rx=\"42.6\" ry=\"40.66\"/>\n",
       "<text text-anchor=\"middle\" x=\"75.01\" y=\"-327.24\" font-family=\"Times New Roman,serif\" font-size=\"14.00\">chi2</text>\n",
       "<text text-anchor=\"middle\" x=\"75.01\" y=\"-310.74\" font-family=\"Times New Roman,serif\" font-size=\"14.00\">~</text>\n",
       "<text text-anchor=\"middle\" x=\"75.01\" y=\"-294.24\" font-family=\"Times New Roman,serif\" font-size=\"14.00\">Gamma</text>\n",
       "</g>\n",
       "<!-- mu -->\n",
       "<g id=\"node2\" class=\"node\">\n",
       "<title>mu</title>\n",
       "<ellipse fill=\"none\" stroke=\"black\" cx=\"41.01\" cy=\"-198.48\" rx=\"41.01\" ry=\"40.66\"/>\n",
       "<text text-anchor=\"middle\" x=\"41.01\" y=\"-209.93\" font-family=\"Times New Roman,serif\" font-size=\"14.00\">mu</text>\n",
       "<text text-anchor=\"middle\" x=\"41.01\" y=\"-193.43\" font-family=\"Times New Roman,serif\" font-size=\"14.00\">~</text>\n",
       "<text text-anchor=\"middle\" x=\"41.01\" y=\"-176.93\" font-family=\"Times New Roman,serif\" font-size=\"14.00\">Normal</text>\n",
       "</g>\n",
       "<!-- chi2&#45;&gt;mu -->\n",
       "<g id=\"edge1\" class=\"edge\">\n",
       "<title>chi2&#45;&gt;mu</title>\n",
       "<path fill=\"none\" stroke=\"black\" d=\"M63.69,-276.39C61.05,-267.45 58.21,-257.8 55.46,-248.46\"/>\n",
       "<polygon fill=\"black\" stroke=\"black\" points=\"58.9,-247.76 52.71,-239.16 52.18,-249.74 58.9,-247.76\"/>\n",
       "</g>\n",
       "<!-- likelihood -->\n",
       "<g id=\"node3\" class=\"node\">\n",
       "<title>likelihood</title>\n",
       "<ellipse fill=\"lightgrey\" stroke=\"black\" cx=\"76.01\" cy=\"-81.16\" rx=\"50.03\" ry=\"40.66\"/>\n",
       "<text text-anchor=\"middle\" x=\"76.01\" y=\"-92.61\" font-family=\"Times New Roman,serif\" font-size=\"14.00\">likelihood</text>\n",
       "<text text-anchor=\"middle\" x=\"76.01\" y=\"-76.11\" font-family=\"Times New Roman,serif\" font-size=\"14.00\">~</text>\n",
       "<text text-anchor=\"middle\" x=\"76.01\" y=\"-59.61\" font-family=\"Times New Roman,serif\" font-size=\"14.00\">Normal</text>\n",
       "</g>\n",
       "<!-- chi2&#45;&gt;likelihood -->\n",
       "<g id=\"edge2\" class=\"edge\">\n",
       "<title>chi2&#45;&gt;likelihood</title>\n",
       "<path fill=\"none\" stroke=\"black\" d=\"M84.88,-275.77C87.4,-264.07 89.76,-251.15 91.01,-239.13 94.77,-203.19 94.54,-193.79 91.01,-157.82 90.21,-149.66 88.94,-141.08 87.46,-132.75\"/>\n",
       "<polygon fill=\"black\" stroke=\"black\" points=\"90.93,-132.26 85.63,-123.09 84.05,-133.56 90.93,-132.26\"/>\n",
       "</g>\n",
       "<!-- mu&#45;&gt;likelihood -->\n",
       "<g id=\"edge3\" class=\"edge\">\n",
       "<title>mu&#45;&gt;likelihood</title>\n",
       "<path fill=\"none\" stroke=\"black\" d=\"M52.67,-159.08C55.32,-150.32 58.19,-140.89 60.96,-131.74\"/>\n",
       "<polygon fill=\"black\" stroke=\"black\" points=\"64.29,-132.82 63.85,-122.23 57.6,-130.78 64.29,-132.82\"/>\n",
       "</g>\n",
       "</g>\n",
       "</svg>\n"
      ],
      "text/plain": [
       "<graphviz.graphs.Digraph at 0x10e09c430e0>"
      ]
     },
     "execution_count": 9,
     "metadata": {},
     "output_type": "execute_result"
    }
   ],
   "source": [
    "pm.model_to_graphviz(model)"
   ]
  },
  {
   "cell_type": "markdown",
   "metadata": {},
   "source": [
    "# 4"
   ]
  },
  {
   "cell_type": "code",
   "execution_count": 11,
   "metadata": {},
   "outputs": [
    {
     "data": {
      "image/png": "[encoded data removed]",
      "text/plain": [
       "<Figure size 640x480 with 1 Axes>"
      ]
     },
     "metadata": {},
     "output_type": "display_data"
    }
   ],
   "source": [
    "plt.hist(data)\n",
    "plt.show()"
   ]
  },
  {
   "cell_type": "code",
   "execution_count": 101,
   "metadata": {},
   "outputs": [],
   "source": [
    "# with pm.Model() as model:\n",
    "#     sigma2 = (len(data) - 1) * s2 / pm.ChiSquared('chi2', nu=n-1)\n",
    "#     mu = pm.Normal('mu', mu=np.mean(data), sigma=pm.math.sqrt(sigma2))\n",
    "\n",
    "#     likelihood = pm.Normal(\"likelihood\", mu=mu, sigma=pm.math.sqrt(sigma2), observed=data)\n",
    "    \n",
    "#     min_data = pm.Deterministic('min_data', pm.math.min(likelihood,-1))\n",
    "\n",
    "#     trace = pm.sample(draws=10**3, nuts_sampler='numpyro')\n",
    "    \n",
    "#     min_data_posterior_predictive = pm.sample_posterior_predictive(trace, var_names=[\"min_data\"])"
   ]
  },
  {
   "cell_type": "code",
   "execution_count": 100,
   "metadata": {},
   "outputs": [],
   "source": [
    "# pm.model_to_graphviz(model)"
   ]
  },
  {
   "cell_type": "code",
   "execution_count": 73,
   "metadata": {},
   "outputs": [
    {
     "data": {
      "text/plain": [
       "array([-11.85861864,   9.92425691])"
      ]
     },
     "execution_count": 73,
     "metadata": {},
     "output_type": "execute_result"
    }
   ],
   "source": [
    "n_samples = 10**5\n",
    "n = len(data)\n",
    "s2 = np.var(data, ddof=1)\n",
    "\n",
    "sigma2 = (n - 1) * s2 / sps.chi2(df=n-1).rvs(n_samples)\n",
    "mu = sps.norm(loc=np.mean(data), scale=np.sqrt(sigma2/n)).rvs(n_samples)\n",
    "data_samples = sps.norm(loc=mu, scale=np.sqrt(sigma2)).rvs((n, n_samples))\n",
    "np.quantile(data_samples.min(0), [0.025, 0.975])"
   ]
  },
  {
   "cell_type": "markdown",
   "metadata": {},
   "source": [
    "# 5"
   ]
  },
  {
   "cell_type": "code",
   "execution_count": 102,
   "metadata": {},
   "outputs": [
    {
     "data": {
      "text/plain": [
       "9255175080"
      ]
     },
     "execution_count": 102,
     "metadata": {},
     "output_type": "execute_result"
    }
   ],
   "source": [
    "120 * 8419 * 9161"
   ]
  },
  {
   "cell_type": "code",
   "execution_count": 98,
   "metadata": {},
   "outputs": [],
   "source": [
    "import scipy.stats as sps\n",
    "\n",
    "def solution(a, b, c, d, t_curr, t1):\n",
    "    tau = t_curr - t1 \n",
    "\n",
    "    marg_active = (b / (a + b)) * (d / (d + tau)) ** c\n",
    "    marg_churned = a / (a + b)\n",
    "    total_marginal = marg_active + marg_churned\n",
    "    \n",
    "    w = marg_active / total_marginal\n",
    "    \n",
    "    def posterior_density(p, q):\n",
    "        active_p = sps.beta.pdf(p, a, b + 1)\n",
    "        active_q = sps.gamma.pdf(q, c, scale=1/(d + tau))\n",
    "        \n",
    "        churned_p = sps.beta.pdf(p, a + 1, b)\n",
    "        churned_q = sps.gamma.pdf(q, c, scale=1/d)\n",
    "        \n",
    "        return w * active_p * active_q + (1 - w) * churned_p * churned_q\n",
    "    \n",
    "    return posterior_density"
   ]
  },
  {
   "cell_type": "code",
   "execution_count": 99,
   "metadata": {},
   "outputs": [
    {
     "name": "stdout",
     "output_type": "stream",
     "text": [
      "1.8816592254887186\n"
     ]
    }
   ],
   "source": [
    "print(solution(2, 20, 2, 2, 0, -3)(0.1, 1))"
   ]
  }
 ],
 "metadata": {
  "kernelspec": {
   "display_name": "pymc_env",
   "language": "python",
   "name": "python3"
  },
  "language_info": {
   "codemirror_mode": {
    "name": "ipython",
    "version": 3
   },
   "file_extension": ".py",
   "mimetype": "text/x-python",
   "name": "python",
   "nbconvert_exporter": "python",
   "pygments_lexer": "ipython3",
   "version": "3.13.2"
  }
 },
 "nbformat": 4,
 "nbformat_minor": 2
}
