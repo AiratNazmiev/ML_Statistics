{
 "cells": [
  {
   "cell_type": "code",
   "execution_count": 2,
   "metadata": {},
   "outputs": [],
   "source": [
    "import numpy as np\n",
    "import scipy as sp\n",
    "import scipy.stats as sps\n",
    "import matplotlib.pyplot as plt"
   ]
  },
  {
   "cell_type": "markdown",
   "metadata": {},
   "source": [
    "## 1"
   ]
  },
  {
   "cell_type": "markdown",
   "metadata": {},
   "source": [
    "![](img/task1.png)"
   ]
  },
  {
   "cell_type": "code",
   "execution_count": 3,
   "metadata": {},
   "outputs": [],
   "source": [
    "def exact(q: int, n: int) -> tuple[float, float]:\n",
    "    cdf = sps.gamma(a=n, scale=1/(n*q)).cdf\n",
    "    mean = 1/q\n",
    "    sigma = 1/q\n",
    "    std  = sigma / np.sqrt(n)\n",
    "    \n",
    "    return 1 - cdf(mean + 2 * std), cdf(mean - 2 * std)"
   ]
  },
  {
   "cell_type": "code",
   "execution_count": 4,
   "metadata": {},
   "outputs": [
    {
     "data": {
      "text/plain": [
       "(0.03685411175968156, 0.004634706298986589)"
      ]
     },
     "execution_count": 4,
     "metadata": {},
     "output_type": "execute_result"
    }
   ],
   "source": [
    "exact(2, 10)"
   ]
  },
  {
   "cell_type": "markdown",
   "metadata": {},
   "source": [
    "## 2"
   ]
  },
  {
   "cell_type": "markdown",
   "metadata": {},
   "source": [
    "![](img/task2.png)"
   ]
  },
  {
   "cell_type": "code",
   "execution_count": 5,
   "metadata": {},
   "outputs": [],
   "source": [
    "import random\n",
    "import math\n",
    "from queue import deque\n",
    "\n",
    "random.seed(2)\n",
    "\n",
    "class Exp:\n",
    "    start_time = 9 * 60\n",
    "    end_time = 16 * 60\n",
    "    \n",
    "    lambd = 1/2\n",
    "    a, b = 15, 45\n",
    "    num_workers = 1\n",
    "    \n",
    "    def gen_work_time():\n",
    "        return random.uniform(Exp.a, Exp.b)\n",
    "\n",
    "def generate_customers(start_time, end_time, lambd):\n",
    "    customers_arrival_times_deque = deque()\n",
    "    time_arrival = start_time\n",
    "    while time_arrival <= end_time:\n",
    "        time_arrival += random.expovariate(lambd)\n",
    "        customers_arrival_times_deque.append(time_arrival)\n",
    "    customers_arrival_times_deque.pop()\n",
    "    \n",
    "    return customers_arrival_times_deque\n",
    "\n",
    "def insert_to_sorted_deq(deq, value):\n",
    "    idx = 0\n",
    "    for elem in deq:\n",
    "        if elem > value:\n",
    "            break\n",
    "        idx += 1\n",
    "        \n",
    "    deq.insert(idx, value)\n",
    "    \n",
    "def get_next_event(event_deq_list, max_time=10**9):\n",
    "    min_idx = None\n",
    "    min_time = max_time\n",
    "    for idx, deq in enumerate(event_deq_list):\n",
    "        if deq and deq[0] < min_time:\n",
    "            min_time = deq[0]\n",
    "            min_idx = idx\n",
    "            \n",
    "    return min_idx, min_time\n",
    "    \n",
    "def experiment():    \n",
    "    time = Exp.start_time\n",
    "\n",
    "    customers_arrival_times_deque = generate_customers(Exp.start_time, Exp.end_time, Exp.lambd)\n",
    "        \n",
    "    customers_queue_size = 0\n",
    "    workers_finish_times_deque = deque()\n",
    "\n",
    "    while time <= Exp.end_time:\n",
    "        event_type, event_time = get_next_event((customers_arrival_times_deque, workers_finish_times_deque))\n",
    "        \n",
    "        if event_time > Exp.end_time:\n",
    "            break\n",
    "        \n",
    "        if event_type == 0:\n",
    "            customers_arrival_times_deque.popleft()\n",
    "            \n",
    "            if len(workers_finish_times_deque) < Exp.num_workers:\n",
    "                insert_to_sorted_deq(workers_finish_times_deque, event_time + Exp.gen_work_time())\n",
    "            else:\n",
    "                customers_queue_size += 1\n",
    "                \n",
    "        elif event_type == 1:\n",
    "            workers_finish_times_deque.popleft()\n",
    "            if customers_queue_size > 0 and len(workers_finish_times_deque) < Exp.num_workers:\n",
    "                customers_queue_size -= 1\n",
    "                insert_to_sorted_deq(workers_finish_times_deque, event_time + Exp.gen_work_time())\n",
    "                \n",
    "        elif event_type is None:\n",
    "            break\n",
    "        \n",
    "        time = event_time\n",
    "    \n",
    "    return customers_queue_size, workers_finish_times_deque\n",
    "        \n",
    "\n",
    "def closing_time(outcome):\n",
    "    customers_queue_size, workers_finish_times_deque = outcome\n",
    "    \n",
    "    result_time = Exp.end_time\n",
    "    while workers_finish_times_deque:\n",
    "        result_time = workers_finish_times_deque.popleft()\n",
    "        if customers_queue_size > 0:\n",
    "            insert_to_sorted_deq(workers_finish_times_deque, result_time + Exp.gen_work_time())\n",
    "            customers_queue_size -= 1\n",
    "            \n",
    "    return result_time - Exp.end_time\n",
    "        \n",
    "        \n",
    "\n",
    "def monte_carlo(experiment,\n",
    "                closing_time,\n",
    "                number_of_trials):\n",
    "    results = [0] * number_of_trials\n",
    "    \n",
    "    for idx in range(number_of_trials):\n",
    "        results[idx] = closing_time(experiment())\n",
    "        \n",
    "    return math.fsum(results) / number_of_trials"
   ]
  },
  {
   "cell_type": "code",
   "execution_count": 6,
   "metadata": {},
   "outputs": [
    {
     "data": {
      "text/plain": [
       "5881.979028194062"
      ]
     },
     "execution_count": 6,
     "metadata": {},
     "output_type": "execute_result"
    }
   ],
   "source": [
    "monte_carlo(experiment, closing_time, 10000)  "
   ]
  },
  {
   "cell_type": "markdown",
   "metadata": {},
   "source": [
    "## 3"
   ]
  },
  {
   "cell_type": "markdown",
   "metadata": {},
   "source": [
    "![](img/task3.png)"
   ]
  },
  {
   "cell_type": "code",
   "execution_count": 8,
   "metadata": {},
   "outputs": [],
   "source": [
    "import numpy as np\n",
    "import numba\n",
    "\n",
    "@numba.njit(cache=True, inline='always')\n",
    "def bg_nbd(a: int, b: int, c: int, d: int, time_limit: int) -> int:\n",
    "    p_u = np.random.beta(a, b)\n",
    "    q_u = np.random.gamma(c, 1/d)\n",
    "    \n",
    "    time = 0\n",
    "    act_num = 0\n",
    "    \n",
    "    time_since_last_act = np.random.exponential(1/q_u)\n",
    "    prob_alive_at_0 = (1 - p_u) * np.exp(-q_u * time_since_last_act) / (p_u + (1 - p_u) * np.exp(-q_u * time_since_last_act))\n",
    "    \n",
    "    if prob_alive_at_0 < np.random.rand():\n",
    "        return 0\n",
    "    \n",
    "    max_act_num = np.random.geometric(p_u)\n",
    "    for _ in range(max_act_num):\n",
    "        time += np.random.exponential(1/q_u)\n",
    "        \n",
    "        if time > time_limit:\n",
    "            break\n",
    "        \n",
    "        act_num += 1\n",
    "            \n",
    "    return act_num\n",
    "    \n",
    "    \n",
    "@numba.njit(cache=True, parallel=True)\n",
    "def mean(a: int, b: int, c: int, d: int, number_of_trials: int = 1_000_000) -> float:\n",
    "    act_num_sum = 0\n",
    "    for _ in range(number_of_trials):\n",
    "        act_num_sum += bg_nbd(a, b, c, d, time_limit=10)\n",
    "        \n",
    "    return act_num_sum / number_of_trials"
   ]
  },
  {
   "cell_type": "code",
   "execution_count": 9,
   "metadata": {},
   "outputs": [
    {
     "data": {
      "text/plain": [
       "4.962898"
      ]
     },
     "execution_count": 9,
     "metadata": {},
     "output_type": "execute_result"
    }
   ],
   "source": [
    "mean(2, 20, 2, 2, 1_000_000)"
   ]
  },
  {
   "cell_type": "markdown",
   "metadata": {},
   "source": [
    "## 4"
   ]
  },
  {
   "cell_type": "markdown",
   "metadata": {},
   "source": [
    "![](img/task4.png)"
   ]
  },
  {
   "cell_type": "code",
   "execution_count": 10,
   "metadata": {},
   "outputs": [],
   "source": [
    "import numpy as np\n",
    "import math\n",
    "\n",
    "def pmf(x: float, p: float, q: float, k: int) -> float:\n",
    "    result = (1 - p)**k * (q * x)**k * np.exp(-q * x) / math.factorial(k)\n",
    "    if k > 0:\n",
    "        result += p * (1 - p) ** (k - 1) * (1 - np.exp(-q * x) * sum((q * x)**m / math.factorial(m) for m in range(k)))\n",
    "        \n",
    "    return result\n",
    "\n",
    "\n",
    "def p_alive_at_0(t: float, p: float, q: float) -> float:\n",
    "    return (1 - p) * np.exp(-q * t) / (p + (1 - p) * np.exp(-q * t))\n",
    "\n",
    "def corrected_pmf(t: float, p: float, q: float, k: int) -> float:\n",
    "    pmf_k = pmf(10, p, q, k)\n",
    "    p_alive = p_alive_at_0(t, p, q)\n",
    "    \n",
    "    if k == 0:\n",
    "        return (1 - p_alive) \n",
    "    else:\n",
    "        return p_alive * pmf_k\n",
    "    \n",
    "def activities(t: float, p: float, q: float, summands: int = 20) -> float:\n",
    "    return sum(k * corrected_pmf(t, p, q, k) for k in range(summands))"
   ]
  },
  {
   "cell_type": "code",
   "execution_count": 11,
   "metadata": {},
   "outputs": [
    {
     "name": "stdout",
     "output_type": "stream",
     "text": [
      "1.1677247235122066\n",
      "2.29548717086201\n",
      "0.09380539017673797\n"
     ]
    }
   ],
   "source": [
    "print(activities(5, 0.15, 0.2))\n",
    "print(activities(0.5, 0.1, 0.3))\n",
    "print(activities(20, 0.5, 0.1))"
   ]
  },
  {
   "cell_type": "markdown",
   "metadata": {},
   "source": [
    "## 5"
   ]
  },
  {
   "cell_type": "markdown",
   "metadata": {},
   "source": [
    "![](img/task5a.png)\n",
    "![](img/task5b.png)"
   ]
  },
  {
   "cell_type": "code",
   "execution_count": null,
   "metadata": {},
   "outputs": [],
   "source": [
    "import numpy as np\n",
    "\n",
    "\n",
    "class HiddenMarkovModel:\n",
    "    EPS = 1e-12\n",
    "    \n",
    "    def __init__(self, n_states, n_emissions, B=None):\n",
    "        self.n_states = n_states\n",
    "        self.n_emissions = n_emissions\n",
    "        \n",
    "        self.A = np.random.rand(n_states, n_states)\n",
    "        self.A /= self.A.sum(axis=1, keepdims=True)\n",
    "        \n",
    "        if B is None:\n",
    "            self.fit_B = True\n",
    "            self.B = np.random.rand(n_states, n_emissions)\n",
    "            self.B /= self.B.sum(axis=1, keepdims=True)\n",
    "        else:\n",
    "            self.fit_B = False\n",
    "            self.B = B\n",
    "        \n",
    "        self.pi = np.random.rand(n_states)\n",
    "        self.pi /= self.pi.sum()\n",
    "\n",
    "    def forward(self, observations):\n",
    "        T = len(observations)\n",
    "        alpha = np.zeros((T, self.n_states))\n",
    "        scaling = np.zeros(T)\n",
    "        \n",
    "        alpha[0] = self.pi * self.B[:, observations[0]]\n",
    "        scaling[0] = alpha[0].sum()\n",
    "        alpha[0] /= scaling[0] + self.EPS\n",
    "        \n",
    "        for t in range(1, T):\n",
    "            alpha[t] = (alpha[t-1] @ self.A) * self.B[:, observations[t]]\n",
    "            scaling[t] = alpha[t].sum()\n",
    "            alpha[t] /= scaling[t] + self.EPS\n",
    "        \n",
    "        return alpha, scaling\n",
    "\n",
    "    def backward(self, observations, scaling):\n",
    "        T = len(observations)\n",
    "        beta = np.zeros((T, self.n_states))\n",
    "        beta[-1] = 1 / (scaling[-1] + self.EPS)\n",
    "        \n",
    "        for t in range(T-2, -1, -1):\n",
    "            beta[t] = (self.A @ (self.B[:, observations[t+1]] * beta[t+1])) / (scaling[t] + self.EPS)\n",
    "        \n",
    "        return beta\n",
    "\n",
    "    def compute_gamma_xi(self, observations, alpha, beta):\n",
    "        T = len(observations)\n",
    "        gamma = alpha * beta\n",
    "        xi = np.zeros((T-1, self.n_states, self.n_states))\n",
    "        \n",
    "        for t in range(T-1):\n",
    "            obs_next = observations[t+1]\n",
    "            xi[t] = alpha[t, :, None] * self.A * self.B[:, obs_next] * beta[t+1]\n",
    "            xi_sum = xi[t].sum()\n",
    "            xi[t] /= xi_sum + self.EPS\n",
    "        \n",
    "        return gamma, xi\n",
    "\n",
    "    def update_parameters(self, observations, gamma, xi):\n",
    "        # Update transition matrix A\n",
    "        num_A = np.sum(xi, axis=0)\n",
    "        den_A = np.sum(gamma[:-1], axis=0, keepdims=True).T\n",
    "        self.A = num_A / (den_A + self.EPS)\n",
    "        self.A /= self.A.sum(axis=1, keepdims=True)\n",
    "        \n",
    "        # Update emission matrix B\n",
    "        if self.fit_B:\n",
    "            obs_matrix = np.eye(self.n_emissions)[observations]\n",
    "            num_B = gamma.T @ obs_matrix\n",
    "            den_B = gamma.sum(axis=0)[:, None]\n",
    "            self.B = num_B / (den_B + self.EPS)\n",
    "            self.B /= self.B.sum(axis=1, keepdims=True)\n",
    "        \n",
    "        # Update initial distribution\n",
    "        self.pi = gamma[0] / (gamma[0].sum() + self.EPS)\n",
    "        self.pi = np.nan_to_num(self.pi, nan=1/self.n_states)\n",
    "        self.pi /= self.pi.sum()\n",
    "\n",
    "    def fit(self, observations, max_iter=200, tol=1e-6):\n",
    "        prev_log_likelihood = -np.inf\n",
    "        \n",
    "        for _ in range(max_iter):\n",
    "            alpha, scaling = self.forward(observations)\n",
    "            beta = self.backward(observations, scaling)\n",
    "            \n",
    "            log_likelihood = np.sum(np.log(scaling + self.EPS))\n",
    "            if abs(log_likelihood - prev_log_likelihood) < tol:\n",
    "                break\n",
    "            prev_log_likelihood = log_likelihood\n",
    "            \n",
    "            gamma, xi = self.compute_gamma_xi(observations, alpha, beta)\n",
    "            self.update_parameters(observations, gamma, xi)\n",
    "            \n",
    "        return self\n",
    "\n",
    "def train_hmm(observations, n_states, n_emissions, B=None, restarts=1, eps=1e-12):\n",
    "    best_model = None\n",
    "    best_log_likelihood = -np.inf\n",
    "    \n",
    "    for _ in range(restarts):\n",
    "        model = HiddenMarkovModel(n_states, n_emissions, B)\n",
    "        model.fit(observations)\n",
    "        \n",
    "        _, scaling = model.forward(observations)\n",
    "        log_likelihood = np.sum(np.log(scaling + eps))\n",
    "        \n",
    "        if log_likelihood > best_log_likelihood:\n",
    "            best_model = model\n",
    "            best_log_likelihood = log_likelihood\n",
    "    \n",
    "    return best_model"
   ]
  },
  {
   "cell_type": "code",
   "execution_count": 13,
   "metadata": {},
   "outputs": [],
   "source": [
    "def generate(n: int) -> np.array: ..."
   ]
  },
  {
   "cell_type": "code",
   "execution_count": null,
   "metadata": {},
   "outputs": [],
   "source": [
    "observations = np.random.choice(3, (1000, ))"
   ]
  },
  {
   "cell_type": "code",
   "execution_count": null,
   "metadata": {},
   "outputs": [],
   "source": [
    "np.random.seed(0)\n",
    "emit_prob = np.array([\n",
    "    [0.1, 0.4, 0.5],\n",
    "    [0.6, 0.3, 0.1]  \n",
    "])\n",
    "# observations = generate(10000)\n",
    "hmm = train_hmm(observations, n_states=2, n_emissions=3, B=emit_prob, restarts=1)\n",
    "\n",
    "\n",
    "# print(\"Transition matrix:\\n\", hmm.A.round(3))\n",
    "# print(\"\\nEmission matrix:\\n\", hmm.B.round(3))\n",
    "# print(\"\\nInitial distribution:\\n\", hmm.pi.round(3))"
   ]
  },
  {
   "cell_type": "code",
   "execution_count": null,
   "metadata": {},
   "outputs": [],
   "source": [
    "stat_prob = np.array([hmm.A[1, 0], hmm.A[0, 1]])\n",
    "stat_prob /= stat_prob.sum()\n",
    "print(stat_prob[0])"
   ]
  }
 ],
 "metadata": {
  "kernelspec": {
   "display_name": "python312",
   "language": "python",
   "name": "python3"
  },
  "language_info": {
   "codemirror_mode": {
    "name": "ipython",
    "version": 3
   },
   "file_extension": ".py",
   "mimetype": "text/x-python",
   "name": "python",
   "nbconvert_exporter": "python",
   "pygments_lexer": "ipython3",
   "version": "3.12.5"
  }
 },
 "nbformat": 4,
 "nbformat_minor": 2
}
