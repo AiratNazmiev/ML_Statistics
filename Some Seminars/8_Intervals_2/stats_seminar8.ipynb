{
 "cells": [
  {
   "cell_type": "code",
   "execution_count": null,
   "id": "9ebb239c",
   "metadata": {},
   "outputs": [],
   "source": [
    "import numpy as np\n",
    "import scipy.stats as sps"
   ]
  },
  {
   "cell_type": "markdown",
   "id": "5a7def89",
   "metadata": {},
   "source": [
    "# 1"
   ]
  },
  {
   "cell_type": "code",
   "execution_count": 20,
   "id": "7e341893",
   "metadata": {},
   "outputs": [],
   "source": [
    "n = 20\n",
    "p_hat = 3 / n\n",
    "zl, zr = sps.norm(0, 1).interval(0.95)\n",
    "\n",
    "def g(x):\n",
    "    return -2 * np.arcsin(np.sqrt(1-x))\n",
    "\n",
    "def inv_g(x):\n",
    "    return np.cos(x/2)**2"
   ]
  },
  {
   "cell_type": "code",
   "execution_count": 25,
   "id": "cde39ad6",
   "metadata": {},
   "outputs": [
    {
     "data": {
      "text/plain": [
       "(np.float64(0.03154932398421735), np.float64(0.3346070538302842))"
      ]
     },
     "execution_count": 25,
     "metadata": {},
     "output_type": "execute_result"
    }
   ],
   "source": [
    "inv_g(g(p_hat) - zr/np.sqrt(n)), inv_g(g(p_hat) - zl/np.sqrt(n))"
   ]
  },
  {
   "cell_type": "markdown",
   "id": "1ec43bf2",
   "metadata": {},
   "source": [
    "# 2"
   ]
  },
  {
   "cell_type": "code",
   "execution_count": 26,
   "id": "66abcbcf",
   "metadata": {},
   "outputs": [],
   "source": [
    "data = np.array([(576, 3.39), (635, 3.30), (558, 2.81), (578, 3.03), (666, 3.44),\n",
    "                 (580, 3.07), (555, 3.0), (661, 3.43), (651, 3.36), (605, 3.13),\n",
    "                 (653, 3.12), (575, 2.74), (545, 2.76), (572, 2.88), (594, 2.96)])"
   ]
  },
  {
   "cell_type": "code",
   "execution_count": 45,
   "id": "693648bd",
   "metadata": {},
   "outputs": [
    {
     "data": {
      "text/plain": [
       "np.float64(0.776374491289432)"
      ]
     },
     "execution_count": 45,
     "metadata": {},
     "output_type": "execute_result"
    }
   ],
   "source": [
    "rho_hat = (np.mean(data[:, 0] * data[:, 1]) - np.mean(data[:, 0]) * np.mean(data[:, 1])) / (np.sqrt(np.var(data[:, 0]) * np.var(data[:, 1])))\n",
    "rho_hat"
   ]
  },
  {
   "cell_type": "code",
   "execution_count": 52,
   "id": "756d983a",
   "metadata": {},
   "outputs": [],
   "source": [
    "def rho_sol(rho_hat, z, n):\n",
    "    return (np.sqrt(n) - np.sqrt(n - 4 * z * (np.sqrt(n) * rho_hat - z))) / (2 * z)"
   ]
  },
  {
   "cell_type": "code",
   "execution_count": 54,
   "id": "613cd229",
   "metadata": {},
   "outputs": [
    {
     "data": {
      "text/plain": [
       "np.float64(0.3231645687328492)"
      ]
     },
     "execution_count": 54,
     "metadata": {},
     "output_type": "execute_result"
    }
   ],
   "source": [
    "rho_sol(rho_hat, zr, len(data))"
   ]
  }
 ],
 "metadata": {
  "kernelspec": {
   "display_name": "pymc_env",
   "language": "python",
   "name": "python3"
  },
  "language_info": {
   "codemirror_mode": {
    "name": "ipython",
    "version": 3
   },
   "file_extension": ".py",
   "mimetype": "text/x-python",
   "name": "python",
   "nbconvert_exporter": "python",
   "pygments_lexer": "ipython3",
   "version": "3.13.2"
  }
 },
 "nbformat": 4,
 "nbformat_minor": 5
}
